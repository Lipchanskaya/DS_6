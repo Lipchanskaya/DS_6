{
 "cells": [
  {
   "cell_type": "markdown",
   "metadata": {},
   "source": [
    "___\n",
    "\n",
    "<a href='https://mainacademy.ua/'> <img src='https://mainacademy.ua/wp-content/uploads/2019/03/logo-main.png' alt = 'Хмм, щось з інтернетом'/></a>\n",
    "___\n",
    "\n",
    "# Module 4: Work with data professionally!"
   ]
  },
  {
   "cell_type": "markdown",
   "metadata": {},
   "source": [
    "## Lab work 4\n",
    "\n"
   ]
  },
  {
   "cell_type": "markdown",
   "metadata": {},
   "source": [
    "#### Мета: \n",
    "\n",
    "* навчитися обробляти дані\n",
    "* \"парсити\" сайти"
   ]
  },
  {
   "cell_type": "markdown",
   "metadata": {},
   "source": [
    "### Завдання 1:"
   ]
  },
  {
   "cell_type": "markdown",
   "metadata": {},
   "source": [
    "#### Ознайомитися із API Національного банку \n",
    "https://old.bank.gov.ua/control/uk/publish/article?art_id=38441973&cat_id=38459171#exchange\n",
    "\n"
   ]
  },
  {
   "cell_type": "markdown",
   "metadata": {},
   "source": [
    "1. Підключитися до API.\n"
   ]
  },
  {
   "cell_type": "code",
   "execution_count": 4,
   "metadata": {},
   "outputs": [
    {
     "name": "stdout",
     "output_type": "stream",
     "text": [
      "Requirement already satisfied: requests in c:\\users\\administrator\\appdata\\local\\programs\\python\\python39\\lib\\site-packages (2.25.1)\n",
      "Requirement already satisfied: certifi>=2017.4.17 in c:\\users\\administrator\\appdata\\local\\programs\\python\\python39\\lib\\site-packages (from requests) (2020.12.5)\n",
      "Requirement already satisfied: chardet<5,>=3.0.2 in c:\\users\\administrator\\appdata\\local\\programs\\python\\python39\\lib\\site-packages (from requests) (4.0.0)\n",
      "Requirement already satisfied: idna<3,>=2.5 in c:\\users\\administrator\\appdata\\local\\programs\\python\\python39\\lib\\site-packages (from requests) (2.10)\n",
      "Requirement already satisfied: urllib3<1.27,>=1.21.1 in c:\\users\\administrator\\appdata\\local\\programs\\python\\python39\\lib\\site-packages (from requests) (1.26.3)\n"
     ]
    },
    {
     "name": "stderr",
     "output_type": "stream",
     "text": [
      "WARNING: You are using pip version 20.2.3; however, version 21.0.1 is available.\n",
      "You should consider upgrading via the 'c:\\users\\administrator\\appdata\\local\\programs\\python\\python39\\python.exe -m pip install --upgrade pip' command.\n"
     ]
    }
   ],
   "source": [
    "!pip install requests"
   ]
  },
  {
   "cell_type": "code",
   "execution_count": 5,
   "metadata": {},
   "outputs": [],
   "source": [
    "import requests"
   ]
  },
  {
   "cell_type": "code",
   "execution_count": 11,
   "metadata": {},
   "outputs": [],
   "source": [
    "r = requests.get('https://bank.gov.ua/NBUStatService/v1/statdirectory/exchange?json').json()"
   ]
  },
  {
   "cell_type": "code",
   "execution_count": 12,
   "metadata": {},
   "outputs": [
    {
     "data": {
      "text/plain": [
       "[{'r030': 36,\n",
       "  'txt': 'Австралійський долар',\n",
       "  'rate': 21.6706,\n",
       "  'cc': 'AUD',\n",
       "  'exchangedate': '19.04.2021'},\n",
       " {'r030': 124,\n",
       "  'txt': 'Канадський долар',\n",
       "  'rate': 22.3755,\n",
       "  'cc': 'CAD',\n",
       "  'exchangedate': '19.04.2021'},\n",
       " {'r030': 156,\n",
       "  'txt': 'Юань Женьміньбі',\n",
       "  'rate': 4.291,\n",
       "  'cc': 'CNY',\n",
       "  'exchangedate': '19.04.2021'},\n",
       " {'r030': 191,\n",
       "  'txt': 'Куна',\n",
       "  'rate': 4.4305,\n",
       "  'cc': 'HRK',\n",
       "  'exchangedate': '19.04.2021'},\n",
       " {'r030': 203,\n",
       "  'txt': 'Чеська крона',\n",
       "  'rate': 1.2932,\n",
       "  'cc': 'CZK',\n",
       "  'exchangedate': '19.04.2021'},\n",
       " {'r030': 208,\n",
       "  'txt': 'Данська крона',\n",
       "  'rate': 4.5082,\n",
       "  'cc': 'DKK',\n",
       "  'exchangedate': '19.04.2021'},\n",
       " {'r030': 344,\n",
       "  'txt': 'Гонконгівський долар',\n",
       "  'rate': 3.5998,\n",
       "  'cc': 'HKD',\n",
       "  'exchangedate': '19.04.2021'},\n",
       " {'r030': 348,\n",
       "  'txt': 'Форинт',\n",
       "  'rate': 0.092846,\n",
       "  'cc': 'HUF',\n",
       "  'exchangedate': '19.04.2021'},\n",
       " {'r030': 356,\n",
       "  'txt': 'Індійська рупія',\n",
       "  'rate': 0.37632,\n",
       "  'cc': 'INR',\n",
       "  'exchangedate': '19.04.2021'},\n",
       " {'r030': 360,\n",
       "  'txt': 'Рупія',\n",
       "  'rate': 0.0019222,\n",
       "  'cc': 'IDR',\n",
       "  'exchangedate': '19.04.2021'},\n",
       " {'r030': 376,\n",
       "  'txt': 'Новий ізраїльський шекель',\n",
       "  'rate': 8.536,\n",
       "  'cc': 'ILS',\n",
       "  'exchangedate': '19.04.2021'},\n",
       " {'r030': 392,\n",
       "  'txt': 'Єна',\n",
       "  'rate': 0.25709,\n",
       "  'cc': 'JPY',\n",
       "  'exchangedate': '19.04.2021'},\n",
       " {'r030': 398,\n",
       "  'txt': 'Теньге',\n",
       "  'rate': 0.065066,\n",
       "  'cc': 'KZT',\n",
       "  'exchangedate': '19.04.2021'},\n",
       " {'r030': 410,\n",
       "  'txt': 'Вона',\n",
       "  'rate': 0.025076,\n",
       "  'cc': 'KRW',\n",
       "  'exchangedate': '19.04.2021'},\n",
       " {'r030': 484,\n",
       "  'txt': 'Мексиканське песо',\n",
       "  'rate': 1.4027,\n",
       "  'cc': 'MXN',\n",
       "  'exchangedate': '19.04.2021'},\n",
       " {'r030': 498,\n",
       "  'txt': 'Молдовський лей',\n",
       "  'rate': 1.5654,\n",
       "  'cc': 'MDL',\n",
       "  'exchangedate': '19.04.2021'},\n",
       " {'r030': 554,\n",
       "  'txt': 'Новозеландський долар',\n",
       "  'rate': 20.0269,\n",
       "  'cc': 'NZD',\n",
       "  'exchangedate': '19.04.2021'},\n",
       " {'r030': 578,\n",
       "  'txt': 'Норвезька крона',\n",
       "  'rate': 3.3448,\n",
       "  'cc': 'NOK',\n",
       "  'exchangedate': '19.04.2021'},\n",
       " {'r030': 643,\n",
       "  'txt': 'Російський рубль',\n",
       "  'rate': 0.3688,\n",
       "  'cc': 'RUB',\n",
       "  'exchangedate': '19.04.2021'},\n",
       " {'r030': 682,\n",
       "  'txt': 'Саудівський ріял',\n",
       "  'rate': 7.4595,\n",
       "  'cc': 'SAR',\n",
       "  'exchangedate': '19.04.2021'},\n",
       " {'r030': 702,\n",
       "  'txt': 'Сінгапурський долар',\n",
       "  'rate': 20.9811,\n",
       "  'cc': 'SGD',\n",
       "  'exchangedate': '19.04.2021'},\n",
       " {'r030': 710,\n",
       "  'txt': 'Ренд',\n",
       "  'rate': 1.9603,\n",
       "  'cc': 'ZAR',\n",
       "  'exchangedate': '19.04.2021'},\n",
       " {'r030': 752,\n",
       "  'txt': 'Шведська крона',\n",
       "  'rate': 3.3173,\n",
       "  'cc': 'SEK',\n",
       "  'exchangedate': '19.04.2021'},\n",
       " {'r030': 756,\n",
       "  'txt': 'Швейцарський франк',\n",
       "  'rate': 30.436,\n",
       "  'cc': 'CHF',\n",
       "  'exchangedate': '19.04.2021'},\n",
       " {'r030': 818,\n",
       "  'txt': 'Єгипетський фунт',\n",
       "  'rate': 1.7842,\n",
       "  'cc': 'EGP',\n",
       "  'exchangedate': '19.04.2021'},\n",
       " {'r030': 826,\n",
       "  'txt': 'Фунт стерлінгів',\n",
       "  'rate': 38.6115,\n",
       "  'cc': 'GBP',\n",
       "  'exchangedate': '19.04.2021'},\n",
       " {'r030': 840,\n",
       "  'txt': 'Долар США',\n",
       "  'rate': 27.9783,\n",
       "  'cc': 'USD',\n",
       "  'exchangedate': '19.04.2021'},\n",
       " {'r030': 933,\n",
       "  'txt': 'Білоруський рубль',\n",
       "  'rate': 10.7671,\n",
       "  'cc': 'BYN',\n",
       "  'exchangedate': '19.04.2021'},\n",
       " {'r030': 946,\n",
       "  'txt': 'Румунський лей',\n",
       "  'rate': 6.8054,\n",
       "  'cc': 'RON',\n",
       "  'exchangedate': '19.04.2021'},\n",
       " {'r030': 949,\n",
       "  'txt': 'Турецька ліра',\n",
       "  'rate': 3.4652,\n",
       "  'cc': 'TRY',\n",
       "  'exchangedate': '19.04.2021'},\n",
       " {'r030': 960,\n",
       "  'txt': 'СПЗ (спеціальні права запозичення)',\n",
       "  'rate': 40.006,\n",
       "  'cc': 'XDR',\n",
       "  'exchangedate': '19.04.2021'},\n",
       " {'r030': 975,\n",
       "  'txt': 'Болгарський лев',\n",
       "  'rate': 17.1425,\n",
       "  'cc': 'BGN',\n",
       "  'exchangedate': '19.04.2021'},\n",
       " {'r030': 978,\n",
       "  'txt': 'Євро',\n",
       "  'rate': 33.525,\n",
       "  'cc': 'EUR',\n",
       "  'exchangedate': '19.04.2021'},\n",
       " {'r030': 985,\n",
       "  'txt': 'Злотий',\n",
       "  'rate': 7.3691,\n",
       "  'cc': 'PLN',\n",
       "  'exchangedate': '19.04.2021'},\n",
       " {'r030': 12,\n",
       "  'txt': 'Алжирський динар',\n",
       "  'rate': 0.20766,\n",
       "  'cc': 'DZD',\n",
       "  'exchangedate': '19.04.2021'},\n",
       " {'r030': 50,\n",
       "  'txt': 'Така',\n",
       "  'rate': 0.3281,\n",
       "  'cc': 'BDT',\n",
       "  'exchangedate': '19.04.2021'},\n",
       " {'r030': 51,\n",
       "  'txt': 'Вірменський драм',\n",
       "  'rate': 0.05238,\n",
       "  'cc': 'AMD',\n",
       "  'exchangedate': '19.04.2021'},\n",
       " {'r030': 364,\n",
       "  'txt': 'Іранський ріал',\n",
       "  'rate': 0.00066244,\n",
       "  'cc': 'IRR',\n",
       "  'exchangedate': '19.04.2021'},\n",
       " {'r030': 368,\n",
       "  'txt': 'Іракський динар',\n",
       "  'rate': 0.019057,\n",
       "  'cc': 'IQD',\n",
       "  'exchangedate': '19.04.2021'},\n",
       " {'r030': 417,\n",
       "  'txt': 'Сом',\n",
       "  'rate': 0.32812,\n",
       "  'cc': 'KGS',\n",
       "  'exchangedate': '19.04.2021'},\n",
       " {'r030': 422,\n",
       "  'txt': 'Ліванський фунт',\n",
       "  'rate': 0.018456,\n",
       "  'cc': 'LBP',\n",
       "  'exchangedate': '19.04.2021'},\n",
       " {'r030': 434,\n",
       "  'txt': 'Лівійський динар',\n",
       "  'rate': 6.1267,\n",
       "  'cc': 'LYD',\n",
       "  'exchangedate': '19.04.2021'},\n",
       " {'r030': 458,\n",
       "  'txt': 'Малайзійський ринггіт',\n",
       "  'rate': 6.7131,\n",
       "  'cc': 'MYR',\n",
       "  'exchangedate': '19.04.2021'},\n",
       " {'r030': 504,\n",
       "  'txt': 'Марокканський дирхам',\n",
       "  'rate': 3.0694,\n",
       "  'cc': 'MAD',\n",
       "  'exchangedate': '19.04.2021'},\n",
       " {'r030': 586,\n",
       "  'txt': 'Пакистанська рупія',\n",
       "  'rate': 0.18264,\n",
       "  'cc': 'PKR',\n",
       "  'exchangedate': '19.04.2021'},\n",
       " {'r030': 704,\n",
       "  'txt': 'Донг',\n",
       "  'rate': 0.0012057,\n",
       "  'cc': 'VND',\n",
       "  'exchangedate': '19.04.2021'},\n",
       " {'r030': 764,\n",
       "  'txt': 'Бат',\n",
       "  'rate': 0.88992,\n",
       "  'cc': 'THB',\n",
       "  'exchangedate': '19.04.2021'},\n",
       " {'r030': 784,\n",
       "  'txt': 'Дирхам ОАЕ',\n",
       "  'rate': 7.5749,\n",
       "  'cc': 'AED',\n",
       "  'exchangedate': '19.04.2021'},\n",
       " {'r030': 788,\n",
       "  'txt': 'Туніський динар',\n",
       "  'rate': 9.9395,\n",
       "  'cc': 'TND',\n",
       "  'exchangedate': '19.04.2021'},\n",
       " {'r030': 860,\n",
       "  'txt': 'Узбецький сум',\n",
       "  'rate': 0.0026534,\n",
       "  'cc': 'UZS',\n",
       "  'exchangedate': '19.04.2021'},\n",
       " {'r030': 934,\n",
       "  'txt': 'Туркменський новий манат',\n",
       "  'rate': 7.9493,\n",
       "  'cc': 'TMT',\n",
       "  'exchangedate': '19.04.2021'},\n",
       " {'r030': 941,\n",
       "  'txt': 'Сербський динар',\n",
       "  'rate': 0.27753,\n",
       "  'cc': 'RSD',\n",
       "  'exchangedate': '19.04.2021'},\n",
       " {'r030': 944,\n",
       "  'txt': 'Азербайджанський манат',\n",
       "  'rate': 16.3778,\n",
       "  'cc': 'AZN',\n",
       "  'exchangedate': '19.04.2021'},\n",
       " {'r030': 972,\n",
       "  'txt': 'Сомоні',\n",
       "  'rate': 2.4591,\n",
       "  'cc': 'TJS',\n",
       "  'exchangedate': '19.04.2021'},\n",
       " {'r030': 981,\n",
       "  'txt': 'Ларі',\n",
       "  'rate': 8.1066,\n",
       "  'cc': 'GEL',\n",
       "  'exchangedate': '19.04.2021'},\n",
       " {'r030': 986,\n",
       "  'txt': 'Бразильський реал',\n",
       "  'rate': 4.8463,\n",
       "  'cc': 'BRL',\n",
       "  'exchangedate': '19.04.2021'},\n",
       " {'r030': 959,\n",
       "  'txt': 'Золото',\n",
       "  'rate': 49840.82,\n",
       "  'cc': 'XAU',\n",
       "  'exchangedate': '19.04.2021'},\n",
       " {'r030': 961,\n",
       "  'txt': 'Срібло',\n",
       "  'rate': 733.29,\n",
       "  'cc': 'XAG',\n",
       "  'exchangedate': '19.04.2021'},\n",
       " {'r030': 962,\n",
       "  'txt': 'Платина',\n",
       "  'rate': 33726.44,\n",
       "  'cc': 'XPT',\n",
       "  'exchangedate': '19.04.2021'},\n",
       " {'r030': 964,\n",
       "  'txt': 'Паладій',\n",
       "  'rate': 77743.86,\n",
       "  'cc': 'XPD',\n",
       "  'exchangedate': '19.04.2021'}]"
      ]
     },
     "execution_count": 12,
     "metadata": {},
     "output_type": "execute_result"
    }
   ],
   "source": [
    "r"
   ]
  },
  {
   "cell_type": "markdown",
   "metadata": {},
   "source": [
    "2. Отримати курс долара за останній рік."
   ]
  },
  {
   "cell_type": "code",
   "execution_count": 9,
   "metadata": {},
   "outputs": [
    {
     "name": "stdout",
     "output_type": "stream",
     "text": [
      "Введіть кількість днів для аналітики: 365\n",
      "[27.9592, 27.9592, 27.9592, 27.9765, 28.0156, 27.9335, 27.9094, 27.9768, 27.9768, 27.9768, 27.8923, 27.8384, 27.939, 27.9555, 27.8324, 27.8324, 27.8324, 27.8226, 27.8852, 27.9694, 27.9679, 27.9698, 27.9698, 27.9698, 27.8706, 27.7295, 27.6871, 27.7184, 27.6828, 27.6828, 27.6828, 27.6978, 27.6525, 27.6434, 27.7305, 27.7486, 27.7486, 27.7486, 27.7016, 27.7431, 27.7091, 27.7564, 27.7564, 27.7564, 27.7564, 27.8477, 27.933, 28.0007, 27.9456, 27.9301, 27.9301, 27.9301, 27.9492, 27.8976, 27.9304, 27.8468, 27.8461, 27.8461, 27.8461, 27.9038, 27.8304, 27.9671, 27.844, 27.8384, 27.8384, 27.8384, 27.7665, 27.6426, 27.6651, 27.7711, 27.8885, 27.8885, 27.8885, 27.995, 28.0589, 28.0603, 28.1324, 28.1929, 28.1929, 28.1929, 28.1652, 28.1524, 28.1665, 28.1648, 28.2561, 28.2561, 28.2561, 28.2035, 28.1544, 28.1926, 28.0524, 28.0524, 28.0524, 28.0609, 27.9705, 28.046, 28.2038, 28.2847, 28.4028, 28.4028, 28.4028, 28.4028, 28.4028, 28.431, 28.2746, 28.2746, 28.2746, 28.2746, 28.2746, 28.2605, 28.3668, 28.3547, 28.4551, 28.4551, 28.4551, 28.4551, 28.2513, 28.0391, 27.828, 27.8184, 27.8184, 27.8184, 27.7373, 27.759, 27.8661, 27.9666, 28.075, 28.075, 28.075, 28.0406, 28.0828, 28.2394, 28.2913, 28.3038, 28.3038, 28.3038, 28.4367, 28.5583, 28.4962, 28.4681, 28.4428, 28.4428, 28.4428, 28.3816, 28.3741, 28.3694, 28.3553, 28.2572, 28.2572, 28.2572, 28.13, 28.1067, 28.112, 28.1158, 28.1963, 28.1963, 28.1963, 28.161, 28.1206, 28.1116, 28.1375, 28.3643, 28.3643, 28.3643, 28.5074, 28.6, 28.5827, 28.4507, 28.4383, 28.4383, 28.4383, 28.3989, 28.3655, 28.3352, 28.2911, 28.265, 28.265, 28.265, 28.2737, 28.3707, 28.3762, 28.3649, 28.3365, 28.3365, 28.3365, 28.3164, 28.2481, 28.2481, 28.2098, 28.2836, 28.2836, 28.2836, 28.324, 28.3639, 28.4009, 28.3408, 28.3343, 28.3343, 28.3343, 28.3105, 28.2989, 28.3062, 28.2673, 28.2487, 28.2487, 28.2487, 28.1874, 28.2059, 28.2022, 28.1718, 28.1127, 28.1127, 28.1127, 28.1195, 28.0556, 28.0003, 27.9003, 27.8346, 27.8346, 27.8346, 27.8296, 27.8032, 27.7509, 27.7325, 27.6908, 27.6908, 27.6908, 27.6428, 27.6049, 27.5618, 27.4759, 27.4615, 27.4615, 27.4615, 27.386, 27.4383, 27.3942, 27.4812, 27.4812, 27.4812, 27.4812, 27.316, 27.2297, 27.3061, 27.3474, 27.4083, 27.4083, 27.4083, 27.5266, 27.5982, 27.6007, 27.6486, 27.6793, 27.6793, 27.6793, 27.7028, 27.8225, 27.7365, 27.6798, 27.6913, 27.6913, 27.6913, 27.6867, 27.6851, 27.7571, 27.7559, 27.8779, 27.8779, 27.8779, 27.7798, 27.6647, 27.6011, 27.3606, 27.2738, 27.2738, 27.2738, 27.119, 27.1436, 27.0883, 26.9505, 26.9335, 26.9335, 26.9335, 26.9514, 26.9309, 27.1269, 27.1716, 27.1801, 27.1801, 27.1801, 26.77, 26.6676, 26.6922, 26.7002, 26.7002, 26.7002, 26.7002, 26.6509, 26.6078, 26.6695, 26.7207, 26.7633, 26.7633, 26.7633, 26.776, 26.7424, 26.844, 26.7303, 26.5999, 26.5999, 26.5999, 26.6367, 26.6412, 26.6005, 26.6953, 26.6953, 26.6953, 26.6953, 26.7544, 26.7955, 26.8181, 26.8685, 26.9059, 26.9059, 26.9059, 27.0002, 26.9029, 26.8742, 26.7556, 26.7699, 26.7699, 26.7699, 26.5854, 26.5159, 26.571, 26.638, 26.6792, 26.6792, 26.6792, 26.6897, 26.7947, 26.8196, 26.8185, 26.8185, 26.8185, 26.8185, 26.9323, 26.9774, 26.9749, 26.9592, 26.9714, 26.9714, 26.9714, 26.9714, 27.0485, 27.1025, 27.1441, 27.0137, 27.0137, 27.0137, 27.0536, 27.0815, 27.0774, 27.2022, 27.2022]\n"
     ]
    }
   ],
   "source": [
    "from datetime import datetime, timedelta\n",
    "\n",
    "import requests\n",
    "\n",
    "Base = []\n",
    "\n",
    "def con_to_api(date):\n",
    "    parameter = {'date': date.strftime('%Y%m%d'), 'valcode': 'USD'}\n",
    "    r = requests.get('https://bank.gov.ua/NBUStatService/v1/statdirectory/exchange?json', params=parameter)\n",
    "    if r.status_code == 200:\n",
    "        return r.json()[0]['rate']\n",
    "    return None\n",
    "\n",
    "def select_data(qty):\n",
    "    \n",
    "    date = datetime.today()\n",
    "    \n",
    "    for i in range (qty):\n",
    "        date = date - timedelta(days=1)\n",
    "        rate = con_to_api(date)\n",
    "        Base.append(rate)\n",
    "\n",
    "if __name__ == '__main__':\n",
    "    qty = int(input('Введіть кількість днів для аналітики: '))\n",
    "    select_data(qty)\n",
    "    print(Base)"
   ]
  },
  {
   "cell_type": "markdown",
   "metadata": {},
   "source": [
    "3. Вивести середнє значення та відхилення курсу за кожний місяць."
   ]
  },
  {
   "cell_type": "code",
   "execution_count": 19,
   "metadata": {},
   "outputs": [
    {
     "name": "stdout",
     "output_type": "stream",
     "text": [
      "Введіть кількість днів для аналітики: 30\n",
      "Середнє значення USD за останні 30 днів становить = 27.871776666666666\n"
     ]
    }
   ],
   "source": [
    "from datetime import datetime, timedelta\n",
    "from statistics import mean\n",
    "\n",
    "import requests\n",
    "\n",
    "Base = []\n",
    "\n",
    "def con_to_api(date):\n",
    "    parameter = {'date': date.strftime('%Y%m%d'), 'valcode': 'USD'}\n",
    "    r = requests.get('https://bank.gov.ua/NBUStatService/v1/statdirectory/exchange?json', params=parameter)\n",
    "    if r.status_code == 200:\n",
    "        return r.json()[0]['rate']\n",
    "    return None\n",
    "\n",
    "def select_data(qty):\n",
    "    \n",
    "    date = datetime.today()\n",
    "    \n",
    "    for i in range (qty):\n",
    "        date = date - timedelta(days=1)\n",
    "        rate = con_to_api(date)\n",
    "        Base.append(rate)\n",
    "\n",
    "if __name__ == '__main__':\n",
    "    qty = int(input('Введіть кількість днів для аналітики: '))\n",
    "    select_data(qty)\n",
    "    print(f\"Середнє значення USD за останні {qty} днів становить = {mean(Base)}\")"
   ]
  },
  {
   "cell_type": "markdown",
   "metadata": {},
   "source": [
    "4. Дану інформацію записати у файл за допомогою pickle."
   ]
  },
  {
   "cell_type": "code",
   "execution_count": 10,
   "metadata": {},
   "outputs": [],
   "source": [
    "import pickle\n",
    "\n",
    "new_dict = {'[27.9592, 27.9765, 28.0156, 27.9335, 27.9094, 27.9768, 27.9768, 27.9768, 27.8923, 27.8384, 27.939, 27.9555, 27.8324, 27.8324, 27.8324, 27.8226, 27.8852, 27.9694, 27.9679, 27.9698, 27.9698, 27.9698, 27.8706, 27.7295, 27.6871, 27.7184, 27.6828, 27.6828, 27.6828, 27.6978, 27.6525, 27.6434, 27.7305, 27.7486, 27.7486, 27.7486, 27.7016, 27.7431, 27.7091, 27.7564, 27.7564, 27.7564, 27.7564, 27.8477, 27.933, 28.0007, 27.9456, 27.9301, 27.9301, 27.9301, 27.9492, 27.8976, 27.9304, 27.8468, 27.8461, 27.8461, 27.8461, 27.9038, 27.8304, 27.9671, 27.844, 27.8384, 27.8384, 27.8384, 27.7665, 27.6426, 27.6651, 27.7711, 27.8885, 27.8885, 27.8885, 27.995, 28.0589, 28.0603, 28.1324, 28.1929, 28.1929, 28.1929, 28.1652, 28.1524, 28.1665, 28.1648, 28.2561, 28.2561, 28.2561, 28.2035, 28.1544, 28.1926, 28.0524, 28.0524, 28.0524, 28.0609, 27.9705, 28.046, 28.2038, 28.2847, 28.4028, 28.4028, 28.4028, 28.4028, 28.4028, 28.431, 28.2746, 28.2746, 28.2746, 28.2746, 28.2746, 28.2605, 28.3668, 28.3547, 28.4551, 28.4551, 28.4551, 28.4551, 28.2513, 28.0391, 27.828, 27.8184, 27.8184, 27.8184, 27.7373, 27.759, 27.8661, 27.9666, 28.075, 28.075, 28.075, 28.0406, 28.0828, 28.2394, 28.2913, 28.3038, 28.3038, 28.3038, 28.4367, 28.5583, 28.4962, 28.4681, 28.4428, 28.4428, 28.4428, 28.3816, 28.3741, 28.3694, 28.3553, 28.2572, 28.2572, 28.2572, 28.13, 28.1067, 28.112, 28.1158, 28.1963, 28.1963, 28.1963, 28.161, 28.1206, 28.1116, 28.1375, 28.3643, 28.3643, 28.3643, 28.5074, 28.6, 28.5827, 28.4507, 28.4383, 28.4383, 28.4383, 28.3989, 28.3655, 28.3352, 28.2911, 28.265, 28.265, 28.265, 28.2737, 28.3707, 28.3762, 28.3649, 28.3365, 28.3365, 28.3365, 28.3164, 28.2481, 28.2481, 28.2098, 28.2836, 28.2836, 28.2836, 28.324, 28.3639, 28.4009, 28.3408, 28.3343, 28.3343, 28.3343, 28.3105, 28.2989, 28.3062, 28.2673, 28.2487, 28.2487, 28.2487, 28.1874, 28.2059, 28.2022, 28.1718, 28.1127, 28.1127, 28.1127, 28.1195, 28.0556, 28.0003, 27.9003, 27.8346, 27.8346, 27.8346, 27.8296, 27.8032, 27.7509, 27.7325, 27.6908, 27.6908, 27.6908, 27.6428, 27.6049, 27.5618, 27.4759, 27.4615, 27.4615, 27.4615, 27.386, 27.4383, 27.3942, 27.4812, 27.4812, 27.4812, 27.4812, 27.316, 27.2297, 27.3061, 27.3474, 27.4083, 27.4083, 27.4083, 27.5266, 27.5982, 27.6007, 27.6486, 27.6793, 27.6793, 27.6793, 27.7028, 27.8225, 27.7365, 27.6798, 27.6913, 27.6913, 27.6913, 27.6867, 27.6851, 27.7571, 27.7559, 27.8779, 27.8779, 27.8779, 27.7798, 27.6647, 27.6011, 27.3606, 27.2738, 27.2738, 27.2738, 27.119, 27.1436, 27.0883, 26.9505, 26.9335, 26.9335, 26.9335, 26.9514, 26.9309, 27.1269, 27.1716, 27.1801, 27.1801, 27.1801, 26.77, 26.6676, 26.6922, 26.7002, 26.7002, 26.7002, 26.7002, 26.6509, 26.6078, 26.6695, 26.7207, 26.7633, 26.7633, 26.7633, 26.776, 26.7424, 26.844, 26.7303, 26.5999, 26.5999, 26.5999, 26.6367, 26.6412, 26.6005, 26.6953, 26.6953, 26.6953, 26.6953, 26.7544, 26.7955, 26.8181, 26.8685, 26.9059, 26.9059, 26.9059, 27.0002, 26.9029, 26.8742, 26.7556, 26.7699, 26.7699, 26.7699, 26.5854, 26.5159, 26.571, 26.638, 26.6792, 26.6792, 26.6792, 26.6897, 26.7947, 26.8196, 26.8185, 26.8185, 26.8185, 26.8185, 26.9323, 26.9774, 26.9749, 26.9592, 26.9714, 26.9714, 26.9714, 26.9714, 27.0485, 27.1025, 27.1441, 27.0137, 27.0137, 27.0137, 27.0536, 27.0815, 27.0774, 27.2022, 27.2022, 27.2022, 27.2022]'}\n",
    "\n",
    "with open('rates_db.pickle', 'wb') as f:\n",
    "    pickle.dump(new_dict, f)"
   ]
  },
  {
   "cell_type": "code",
   "execution_count": 11,
   "metadata": {},
   "outputs": [
    {
     "data": {
      "text/plain": [
       "{'[27.9592, 27.9765, 28.0156, 27.9335, 27.9094, 27.9768, 27.9768, 27.9768, 27.8923, 27.8384, 27.939, 27.9555, 27.8324, 27.8324, 27.8324, 27.8226, 27.8852, 27.9694, 27.9679, 27.9698, 27.9698, 27.9698, 27.8706, 27.7295, 27.6871, 27.7184, 27.6828, 27.6828, 27.6828, 27.6978, 27.6525, 27.6434, 27.7305, 27.7486, 27.7486, 27.7486, 27.7016, 27.7431, 27.7091, 27.7564, 27.7564, 27.7564, 27.7564, 27.8477, 27.933, 28.0007, 27.9456, 27.9301, 27.9301, 27.9301, 27.9492, 27.8976, 27.9304, 27.8468, 27.8461, 27.8461, 27.8461, 27.9038, 27.8304, 27.9671, 27.844, 27.8384, 27.8384, 27.8384, 27.7665, 27.6426, 27.6651, 27.7711, 27.8885, 27.8885, 27.8885, 27.995, 28.0589, 28.0603, 28.1324, 28.1929, 28.1929, 28.1929, 28.1652, 28.1524, 28.1665, 28.1648, 28.2561, 28.2561, 28.2561, 28.2035, 28.1544, 28.1926, 28.0524, 28.0524, 28.0524, 28.0609, 27.9705, 28.046, 28.2038, 28.2847, 28.4028, 28.4028, 28.4028, 28.4028, 28.4028, 28.431, 28.2746, 28.2746, 28.2746, 28.2746, 28.2746, 28.2605, 28.3668, 28.3547, 28.4551, 28.4551, 28.4551, 28.4551, 28.2513, 28.0391, 27.828, 27.8184, 27.8184, 27.8184, 27.7373, 27.759, 27.8661, 27.9666, 28.075, 28.075, 28.075, 28.0406, 28.0828, 28.2394, 28.2913, 28.3038, 28.3038, 28.3038, 28.4367, 28.5583, 28.4962, 28.4681, 28.4428, 28.4428, 28.4428, 28.3816, 28.3741, 28.3694, 28.3553, 28.2572, 28.2572, 28.2572, 28.13, 28.1067, 28.112, 28.1158, 28.1963, 28.1963, 28.1963, 28.161, 28.1206, 28.1116, 28.1375, 28.3643, 28.3643, 28.3643, 28.5074, 28.6, 28.5827, 28.4507, 28.4383, 28.4383, 28.4383, 28.3989, 28.3655, 28.3352, 28.2911, 28.265, 28.265, 28.265, 28.2737, 28.3707, 28.3762, 28.3649, 28.3365, 28.3365, 28.3365, 28.3164, 28.2481, 28.2481, 28.2098, 28.2836, 28.2836, 28.2836, 28.324, 28.3639, 28.4009, 28.3408, 28.3343, 28.3343, 28.3343, 28.3105, 28.2989, 28.3062, 28.2673, 28.2487, 28.2487, 28.2487, 28.1874, 28.2059, 28.2022, 28.1718, 28.1127, 28.1127, 28.1127, 28.1195, 28.0556, 28.0003, 27.9003, 27.8346, 27.8346, 27.8346, 27.8296, 27.8032, 27.7509, 27.7325, 27.6908, 27.6908, 27.6908, 27.6428, 27.6049, 27.5618, 27.4759, 27.4615, 27.4615, 27.4615, 27.386, 27.4383, 27.3942, 27.4812, 27.4812, 27.4812, 27.4812, 27.316, 27.2297, 27.3061, 27.3474, 27.4083, 27.4083, 27.4083, 27.5266, 27.5982, 27.6007, 27.6486, 27.6793, 27.6793, 27.6793, 27.7028, 27.8225, 27.7365, 27.6798, 27.6913, 27.6913, 27.6913, 27.6867, 27.6851, 27.7571, 27.7559, 27.8779, 27.8779, 27.8779, 27.7798, 27.6647, 27.6011, 27.3606, 27.2738, 27.2738, 27.2738, 27.119, 27.1436, 27.0883, 26.9505, 26.9335, 26.9335, 26.9335, 26.9514, 26.9309, 27.1269, 27.1716, 27.1801, 27.1801, 27.1801, 26.77, 26.6676, 26.6922, 26.7002, 26.7002, 26.7002, 26.7002, 26.6509, 26.6078, 26.6695, 26.7207, 26.7633, 26.7633, 26.7633, 26.776, 26.7424, 26.844, 26.7303, 26.5999, 26.5999, 26.5999, 26.6367, 26.6412, 26.6005, 26.6953, 26.6953, 26.6953, 26.6953, 26.7544, 26.7955, 26.8181, 26.8685, 26.9059, 26.9059, 26.9059, 27.0002, 26.9029, 26.8742, 26.7556, 26.7699, 26.7699, 26.7699, 26.5854, 26.5159, 26.571, 26.638, 26.6792, 26.6792, 26.6792, 26.6897, 26.7947, 26.8196, 26.8185, 26.8185, 26.8185, 26.8185, 26.9323, 26.9774, 26.9749, 26.9592, 26.9714, 26.9714, 26.9714, 26.9714, 27.0485, 27.1025, 27.1441, 27.0137, 27.0137, 27.0137, 27.0536, 27.0815, 27.0774, 27.2022, 27.2022, 27.2022, 27.2022]'}"
      ]
     },
     "execution_count": 11,
     "metadata": {},
     "output_type": "execute_result"
    }
   ],
   "source": [
    "with open('rates_db.pickle', 'rb') as f:\n",
    "    res = pickle.load(f)\n",
    "    \n",
    "res"
   ]
  },
  {
   "cell_type": "code",
   "execution_count": null,
   "metadata": {},
   "outputs": [],
   "source": []
  },
  {
   "cell_type": "markdown",
   "metadata": {},
   "source": [
    "### Завдання 2:"
   ]
  },
  {
   "cell_type": "markdown",
   "metadata": {},
   "source": [
    "Потрібно проаналізувати всі товари на сайті: \n",
    "https://smallpacking.agrosem.ua/shop/"
   ]
  },
  {
   "cell_type": "markdown",
   "metadata": {},
   "source": [
    "Створіть базу даних, що містить таблицю із такими стовбцями: \n",
    "    - артикул товару\n",
    "    - найменування\n",
    "    - ціна \n",
    "    - вага"
   ]
  },
  {
   "cell_type": "code",
   "execution_count": 20,
   "metadata": {},
   "outputs": [
    {
     "name": "stdout",
     "output_type": "stream",
     "text": [
      "Collecting bs4\n",
      "  Downloading bs4-0.0.1.tar.gz (1.1 kB)\n",
      "Collecting beautifulsoup4\n",
      "  Downloading beautifulsoup4-4.9.3-py3-none-any.whl (115 kB)\n",
      "Collecting soupsieve>1.2; python_version >= \"3.0\"\n",
      "  Downloading soupsieve-2.2.1-py3-none-any.whl (33 kB)\n",
      "Using legacy 'setup.py install' for bs4, since package 'wheel' is not installed.\n",
      "Installing collected packages: soupsieve, beautifulsoup4, bs4\n",
      "    Running setup.py install for bs4: started\n",
      "    Running setup.py install for bs4: finished with status 'done'\n",
      "Successfully installed beautifulsoup4-4.9.3 bs4-0.0.1 soupsieve-2.2.1\n"
     ]
    },
    {
     "name": "stderr",
     "output_type": "stream",
     "text": [
      "WARNING: You are using pip version 20.2.3; however, version 21.0.1 is available.\n",
      "You should consider upgrading via the 'c:\\users\\administrator\\appdata\\local\\programs\\python\\python39\\python.exe -m pip install --upgrade pip' command.\n"
     ]
    }
   ],
   "source": [
    "!pip install bs4"
   ]
  },
  {
   "cell_type": "code",
   "execution_count": 2,
   "metadata": {},
   "outputs": [],
   "source": [
    "HEADERS = {\n",
    "            'User-Agent': 'Mozilla/5.0 (Windows NT 6.1; WOW64; rv:49.0) Gecko/20100101 Firefox/49.0',\n",
    "            'Accept': 'text/html,application/xhtml+xml,application/xml;q=0.9,*/*;q=0.8',\n",
    "            'Accept-Language': 'en-US,en;q=0.5',\n",
    "            'Accept-Encoding': 'gzip, deflate',\n",
    "            'DNT': '1',\n",
    "            'Connection': 'keep-alive',\n",
    "            'Upgrade-Insecure-Requests': '1'\n",
    "        }"
   ]
  },
  {
   "cell_type": "code",
   "execution_count": 3,
   "metadata": {},
   "outputs": [
    {
     "ename": "ConnectionError",
     "evalue": "HTTPSConnectionPool(host='https', port=443): Max retries exceeded with url: //smallpacking.agrosem.ua/product/dlya-fruktovih-ta-gorihovih-derev-2/ (Caused by NewConnectionError('<urllib3.connection.HTTPSConnection object at 0x0000025D23E9D400>: Failed to establish a new connection: [Errno 11001] getaddrinfo failed'))",
     "output_type": "error",
     "traceback": [
      "\u001b[1;31m---------------------------------------------------------------------------\u001b[0m",
      "\u001b[1;31mgaierror\u001b[0m                                  Traceback (most recent call last)",
      "\u001b[1;32mc:\\users\\administrator\\appdata\\local\\programs\\python\\python39\\lib\\site-packages\\urllib3\\connection.py\u001b[0m in \u001b[0;36m_new_conn\u001b[1;34m(self)\u001b[0m\n\u001b[0;32m    168\u001b[0m         \u001b[1;32mtry\u001b[0m\u001b[1;33m:\u001b[0m\u001b[1;33m\u001b[0m\u001b[1;33m\u001b[0m\u001b[0m\n\u001b[1;32m--> 169\u001b[1;33m             conn = connection.create_connection(\n\u001b[0m\u001b[0;32m    170\u001b[0m                 \u001b[1;33m(\u001b[0m\u001b[0mself\u001b[0m\u001b[1;33m.\u001b[0m\u001b[0m_dns_host\u001b[0m\u001b[1;33m,\u001b[0m \u001b[0mself\u001b[0m\u001b[1;33m.\u001b[0m\u001b[0mport\u001b[0m\u001b[1;33m)\u001b[0m\u001b[1;33m,\u001b[0m \u001b[0mself\u001b[0m\u001b[1;33m.\u001b[0m\u001b[0mtimeout\u001b[0m\u001b[1;33m,\u001b[0m \u001b[1;33m**\u001b[0m\u001b[0mextra_kw\u001b[0m\u001b[1;33m\u001b[0m\u001b[1;33m\u001b[0m\u001b[0m\n",
      "\u001b[1;32mc:\\users\\administrator\\appdata\\local\\programs\\python\\python39\\lib\\site-packages\\urllib3\\util\\connection.py\u001b[0m in \u001b[0;36mcreate_connection\u001b[1;34m(address, timeout, source_address, socket_options)\u001b[0m\n\u001b[0;32m     72\u001b[0m \u001b[1;33m\u001b[0m\u001b[0m\n\u001b[1;32m---> 73\u001b[1;33m     \u001b[1;32mfor\u001b[0m \u001b[0mres\u001b[0m \u001b[1;32min\u001b[0m \u001b[0msocket\u001b[0m\u001b[1;33m.\u001b[0m\u001b[0mgetaddrinfo\u001b[0m\u001b[1;33m(\u001b[0m\u001b[0mhost\u001b[0m\u001b[1;33m,\u001b[0m \u001b[0mport\u001b[0m\u001b[1;33m,\u001b[0m \u001b[0mfamily\u001b[0m\u001b[1;33m,\u001b[0m \u001b[0msocket\u001b[0m\u001b[1;33m.\u001b[0m\u001b[0mSOCK_STREAM\u001b[0m\u001b[1;33m)\u001b[0m\u001b[1;33m:\u001b[0m\u001b[1;33m\u001b[0m\u001b[1;33m\u001b[0m\u001b[0m\n\u001b[0m\u001b[0;32m     74\u001b[0m         \u001b[0maf\u001b[0m\u001b[1;33m,\u001b[0m \u001b[0msocktype\u001b[0m\u001b[1;33m,\u001b[0m \u001b[0mproto\u001b[0m\u001b[1;33m,\u001b[0m \u001b[0mcanonname\u001b[0m\u001b[1;33m,\u001b[0m \u001b[0msa\u001b[0m \u001b[1;33m=\u001b[0m \u001b[0mres\u001b[0m\u001b[1;33m\u001b[0m\u001b[1;33m\u001b[0m\u001b[0m\n",
      "\u001b[1;32mc:\\users\\administrator\\appdata\\local\\programs\\python\\python39\\lib\\socket.py\u001b[0m in \u001b[0;36mgetaddrinfo\u001b[1;34m(host, port, family, type, proto, flags)\u001b[0m\n\u001b[0;32m    952\u001b[0m     \u001b[0maddrlist\u001b[0m \u001b[1;33m=\u001b[0m \u001b[1;33m[\u001b[0m\u001b[1;33m]\u001b[0m\u001b[1;33m\u001b[0m\u001b[1;33m\u001b[0m\u001b[0m\n\u001b[1;32m--> 953\u001b[1;33m     \u001b[1;32mfor\u001b[0m \u001b[0mres\u001b[0m \u001b[1;32min\u001b[0m \u001b[0m_socket\u001b[0m\u001b[1;33m.\u001b[0m\u001b[0mgetaddrinfo\u001b[0m\u001b[1;33m(\u001b[0m\u001b[0mhost\u001b[0m\u001b[1;33m,\u001b[0m \u001b[0mport\u001b[0m\u001b[1;33m,\u001b[0m \u001b[0mfamily\u001b[0m\u001b[1;33m,\u001b[0m \u001b[0mtype\u001b[0m\u001b[1;33m,\u001b[0m \u001b[0mproto\u001b[0m\u001b[1;33m,\u001b[0m \u001b[0mflags\u001b[0m\u001b[1;33m)\u001b[0m\u001b[1;33m:\u001b[0m\u001b[1;33m\u001b[0m\u001b[1;33m\u001b[0m\u001b[0m\n\u001b[0m\u001b[0;32m    954\u001b[0m         \u001b[0maf\u001b[0m\u001b[1;33m,\u001b[0m \u001b[0msocktype\u001b[0m\u001b[1;33m,\u001b[0m \u001b[0mproto\u001b[0m\u001b[1;33m,\u001b[0m \u001b[0mcanonname\u001b[0m\u001b[1;33m,\u001b[0m \u001b[0msa\u001b[0m \u001b[1;33m=\u001b[0m \u001b[0mres\u001b[0m\u001b[1;33m\u001b[0m\u001b[1;33m\u001b[0m\u001b[0m\n",
      "\u001b[1;31mgaierror\u001b[0m: [Errno 11001] getaddrinfo failed",
      "\nDuring handling of the above exception, another exception occurred:\n",
      "\u001b[1;31mNewConnectionError\u001b[0m                        Traceback (most recent call last)",
      "\u001b[1;32mc:\\users\\administrator\\appdata\\local\\programs\\python\\python39\\lib\\site-packages\\urllib3\\connectionpool.py\u001b[0m in \u001b[0;36murlopen\u001b[1;34m(self, method, url, body, headers, retries, redirect, assert_same_host, timeout, pool_timeout, release_conn, chunked, body_pos, **response_kw)\u001b[0m\n\u001b[0;32m    698\u001b[0m             \u001b[1;31m# Make the request on the httplib connection object.\u001b[0m\u001b[1;33m\u001b[0m\u001b[1;33m\u001b[0m\u001b[1;33m\u001b[0m\u001b[0m\n\u001b[1;32m--> 699\u001b[1;33m             httplib_response = self._make_request(\n\u001b[0m\u001b[0;32m    700\u001b[0m                 \u001b[0mconn\u001b[0m\u001b[1;33m,\u001b[0m\u001b[1;33m\u001b[0m\u001b[1;33m\u001b[0m\u001b[0m\n",
      "\u001b[1;32mc:\\users\\administrator\\appdata\\local\\programs\\python\\python39\\lib\\site-packages\\urllib3\\connectionpool.py\u001b[0m in \u001b[0;36m_make_request\u001b[1;34m(self, conn, method, url, timeout, chunked, **httplib_request_kw)\u001b[0m\n\u001b[0;32m    381\u001b[0m         \u001b[1;32mtry\u001b[0m\u001b[1;33m:\u001b[0m\u001b[1;33m\u001b[0m\u001b[1;33m\u001b[0m\u001b[0m\n\u001b[1;32m--> 382\u001b[1;33m             \u001b[0mself\u001b[0m\u001b[1;33m.\u001b[0m\u001b[0m_validate_conn\u001b[0m\u001b[1;33m(\u001b[0m\u001b[0mconn\u001b[0m\u001b[1;33m)\u001b[0m\u001b[1;33m\u001b[0m\u001b[1;33m\u001b[0m\u001b[0m\n\u001b[0m\u001b[0;32m    383\u001b[0m         \u001b[1;32mexcept\u001b[0m \u001b[1;33m(\u001b[0m\u001b[0mSocketTimeout\u001b[0m\u001b[1;33m,\u001b[0m \u001b[0mBaseSSLError\u001b[0m\u001b[1;33m)\u001b[0m \u001b[1;32mas\u001b[0m \u001b[0me\u001b[0m\u001b[1;33m:\u001b[0m\u001b[1;33m\u001b[0m\u001b[1;33m\u001b[0m\u001b[0m\n",
      "\u001b[1;32mc:\\users\\administrator\\appdata\\local\\programs\\python\\python39\\lib\\site-packages\\urllib3\\connectionpool.py\u001b[0m in \u001b[0;36m_validate_conn\u001b[1;34m(self, conn)\u001b[0m\n\u001b[0;32m   1009\u001b[0m         \u001b[1;32mif\u001b[0m \u001b[1;32mnot\u001b[0m \u001b[0mgetattr\u001b[0m\u001b[1;33m(\u001b[0m\u001b[0mconn\u001b[0m\u001b[1;33m,\u001b[0m \u001b[1;34m\"sock\"\u001b[0m\u001b[1;33m,\u001b[0m \u001b[1;32mNone\u001b[0m\u001b[1;33m)\u001b[0m\u001b[1;33m:\u001b[0m  \u001b[1;31m# AppEngine might not have  `.sock`\u001b[0m\u001b[1;33m\u001b[0m\u001b[1;33m\u001b[0m\u001b[0m\n\u001b[1;32m-> 1010\u001b[1;33m             \u001b[0mconn\u001b[0m\u001b[1;33m.\u001b[0m\u001b[0mconnect\u001b[0m\u001b[1;33m(\u001b[0m\u001b[1;33m)\u001b[0m\u001b[1;33m\u001b[0m\u001b[1;33m\u001b[0m\u001b[0m\n\u001b[0m\u001b[0;32m   1011\u001b[0m \u001b[1;33m\u001b[0m\u001b[0m\n",
      "\u001b[1;32mc:\\users\\administrator\\appdata\\local\\programs\\python\\python39\\lib\\site-packages\\urllib3\\connection.py\u001b[0m in \u001b[0;36mconnect\u001b[1;34m(self)\u001b[0m\n\u001b[0;32m    352\u001b[0m         \u001b[1;31m# Add certificate verification\u001b[0m\u001b[1;33m\u001b[0m\u001b[1;33m\u001b[0m\u001b[1;33m\u001b[0m\u001b[0m\n\u001b[1;32m--> 353\u001b[1;33m         \u001b[0mconn\u001b[0m \u001b[1;33m=\u001b[0m \u001b[0mself\u001b[0m\u001b[1;33m.\u001b[0m\u001b[0m_new_conn\u001b[0m\u001b[1;33m(\u001b[0m\u001b[1;33m)\u001b[0m\u001b[1;33m\u001b[0m\u001b[1;33m\u001b[0m\u001b[0m\n\u001b[0m\u001b[0;32m    354\u001b[0m         \u001b[0mhostname\u001b[0m \u001b[1;33m=\u001b[0m \u001b[0mself\u001b[0m\u001b[1;33m.\u001b[0m\u001b[0mhost\u001b[0m\u001b[1;33m\u001b[0m\u001b[1;33m\u001b[0m\u001b[0m\n",
      "\u001b[1;32mc:\\users\\administrator\\appdata\\local\\programs\\python\\python39\\lib\\site-packages\\urllib3\\connection.py\u001b[0m in \u001b[0;36m_new_conn\u001b[1;34m(self)\u001b[0m\n\u001b[0;32m    180\u001b[0m         \u001b[1;32mexcept\u001b[0m \u001b[0mSocketError\u001b[0m \u001b[1;32mas\u001b[0m \u001b[0me\u001b[0m\u001b[1;33m:\u001b[0m\u001b[1;33m\u001b[0m\u001b[1;33m\u001b[0m\u001b[0m\n\u001b[1;32m--> 181\u001b[1;33m             raise NewConnectionError(\n\u001b[0m\u001b[0;32m    182\u001b[0m                 \u001b[0mself\u001b[0m\u001b[1;33m,\u001b[0m \u001b[1;34m\"Failed to establish a new connection: %s\"\u001b[0m \u001b[1;33m%\u001b[0m \u001b[0me\u001b[0m\u001b[1;33m\u001b[0m\u001b[1;33m\u001b[0m\u001b[0m\n",
      "\u001b[1;31mNewConnectionError\u001b[0m: <urllib3.connection.HTTPSConnection object at 0x0000025D23E9D400>: Failed to establish a new connection: [Errno 11001] getaddrinfo failed",
      "\nDuring handling of the above exception, another exception occurred:\n",
      "\u001b[1;31mMaxRetryError\u001b[0m                             Traceback (most recent call last)",
      "\u001b[1;32mc:\\users\\administrator\\appdata\\local\\programs\\python\\python39\\lib\\site-packages\\requests\\adapters.py\u001b[0m in \u001b[0;36msend\u001b[1;34m(self, request, stream, timeout, verify, cert, proxies)\u001b[0m\n\u001b[0;32m    438\u001b[0m             \u001b[1;32mif\u001b[0m \u001b[1;32mnot\u001b[0m \u001b[0mchunked\u001b[0m\u001b[1;33m:\u001b[0m\u001b[1;33m\u001b[0m\u001b[1;33m\u001b[0m\u001b[0m\n\u001b[1;32m--> 439\u001b[1;33m                 resp = conn.urlopen(\n\u001b[0m\u001b[0;32m    440\u001b[0m                     \u001b[0mmethod\u001b[0m\u001b[1;33m=\u001b[0m\u001b[0mrequest\u001b[0m\u001b[1;33m.\u001b[0m\u001b[0mmethod\u001b[0m\u001b[1;33m,\u001b[0m\u001b[1;33m\u001b[0m\u001b[1;33m\u001b[0m\u001b[0m\n",
      "\u001b[1;32mc:\\users\\administrator\\appdata\\local\\programs\\python\\python39\\lib\\site-packages\\urllib3\\connectionpool.py\u001b[0m in \u001b[0;36murlopen\u001b[1;34m(self, method, url, body, headers, retries, redirect, assert_same_host, timeout, pool_timeout, release_conn, chunked, body_pos, **response_kw)\u001b[0m\n\u001b[0;32m    754\u001b[0m \u001b[1;33m\u001b[0m\u001b[0m\n\u001b[1;32m--> 755\u001b[1;33m             retries = retries.increment(\n\u001b[0m\u001b[0;32m    756\u001b[0m                 \u001b[0mmethod\u001b[0m\u001b[1;33m,\u001b[0m \u001b[0murl\u001b[0m\u001b[1;33m,\u001b[0m \u001b[0merror\u001b[0m\u001b[1;33m=\u001b[0m\u001b[0me\u001b[0m\u001b[1;33m,\u001b[0m \u001b[0m_pool\u001b[0m\u001b[1;33m=\u001b[0m\u001b[0mself\u001b[0m\u001b[1;33m,\u001b[0m \u001b[0m_stacktrace\u001b[0m\u001b[1;33m=\u001b[0m\u001b[0msys\u001b[0m\u001b[1;33m.\u001b[0m\u001b[0mexc_info\u001b[0m\u001b[1;33m(\u001b[0m\u001b[1;33m)\u001b[0m\u001b[1;33m[\u001b[0m\u001b[1;36m2\u001b[0m\u001b[1;33m]\u001b[0m\u001b[1;33m\u001b[0m\u001b[1;33m\u001b[0m\u001b[0m\n",
      "\u001b[1;32mc:\\users\\administrator\\appdata\\local\\programs\\python\\python39\\lib\\site-packages\\urllib3\\util\\retry.py\u001b[0m in \u001b[0;36mincrement\u001b[1;34m(self, method, url, response, error, _pool, _stacktrace)\u001b[0m\n\u001b[0;32m    572\u001b[0m         \u001b[1;32mif\u001b[0m \u001b[0mnew_retry\u001b[0m\u001b[1;33m.\u001b[0m\u001b[0mis_exhausted\u001b[0m\u001b[1;33m(\u001b[0m\u001b[1;33m)\u001b[0m\u001b[1;33m:\u001b[0m\u001b[1;33m\u001b[0m\u001b[1;33m\u001b[0m\u001b[0m\n\u001b[1;32m--> 573\u001b[1;33m             \u001b[1;32mraise\u001b[0m \u001b[0mMaxRetryError\u001b[0m\u001b[1;33m(\u001b[0m\u001b[0m_pool\u001b[0m\u001b[1;33m,\u001b[0m \u001b[0murl\u001b[0m\u001b[1;33m,\u001b[0m \u001b[0merror\u001b[0m \u001b[1;32mor\u001b[0m \u001b[0mResponseError\u001b[0m\u001b[1;33m(\u001b[0m\u001b[0mcause\u001b[0m\u001b[1;33m)\u001b[0m\u001b[1;33m)\u001b[0m\u001b[1;33m\u001b[0m\u001b[1;33m\u001b[0m\u001b[0m\n\u001b[0m\u001b[0;32m    574\u001b[0m \u001b[1;33m\u001b[0m\u001b[0m\n",
      "\u001b[1;31mMaxRetryError\u001b[0m: HTTPSConnectionPool(host='https', port=443): Max retries exceeded with url: //smallpacking.agrosem.ua/product/dlya-fruktovih-ta-gorihovih-derev-2/ (Caused by NewConnectionError('<urllib3.connection.HTTPSConnection object at 0x0000025D23E9D400>: Failed to establish a new connection: [Errno 11001] getaddrinfo failed'))",
      "\nDuring handling of the above exception, another exception occurred:\n",
      "\u001b[1;31mConnectionError\u001b[0m                           Traceback (most recent call last)",
      "\u001b[1;32m<ipython-input-3-d460bf8a966d>\u001b[0m in \u001b[0;36m<module>\u001b[1;34m\u001b[0m\n\u001b[0;32m      6\u001b[0m \u001b[0mSITE\u001b[0m \u001b[1;33m=\u001b[0m \u001b[1;34m'https://https://smallpacking.agrosem.ua/product/dlya-fruktovih-ta-gorihovih-derev-2/'\u001b[0m\u001b[1;33m\u001b[0m\u001b[1;33m\u001b[0m\u001b[0m\n\u001b[0;32m      7\u001b[0m \u001b[1;33m\u001b[0m\u001b[0m\n\u001b[1;32m----> 8\u001b[1;33m \u001b[0mr\u001b[0m \u001b[1;33m=\u001b[0m \u001b[0mrequests\u001b[0m\u001b[1;33m.\u001b[0m\u001b[0mget\u001b[0m\u001b[1;33m(\u001b[0m\u001b[0mSITE\u001b[0m\u001b[1;33m,\u001b[0m \u001b[0mheaders\u001b[0m\u001b[1;33m=\u001b[0m\u001b[0mHEADERS\u001b[0m\u001b[1;33m)\u001b[0m\u001b[1;33m\u001b[0m\u001b[1;33m\u001b[0m\u001b[0m\n\u001b[0m\u001b[0;32m      9\u001b[0m \u001b[1;32mif\u001b[0m \u001b[0mr\u001b[0m\u001b[1;33m.\u001b[0m\u001b[0mstatus_code\u001b[0m \u001b[1;33m==\u001b[0m \u001b[1;36m200\u001b[0m\u001b[1;33m:\u001b[0m\u001b[1;33m\u001b[0m\u001b[1;33m\u001b[0m\u001b[0m\n\u001b[0;32m     10\u001b[0m     \u001b[0msoup\u001b[0m \u001b[1;33m=\u001b[0m \u001b[0mBeautifulSoup\u001b[0m\u001b[1;33m(\u001b[0m\u001b[0mr\u001b[0m\u001b[1;33m.\u001b[0m\u001b[0mtext\u001b[0m\u001b[1;33m,\u001b[0m \u001b[1;34m'lxml'\u001b[0m\u001b[1;33m)\u001b[0m\u001b[1;33m\u001b[0m\u001b[1;33m\u001b[0m\u001b[0m\n",
      "\u001b[1;32mc:\\users\\administrator\\appdata\\local\\programs\\python\\python39\\lib\\site-packages\\requests\\api.py\u001b[0m in \u001b[0;36mget\u001b[1;34m(url, params, **kwargs)\u001b[0m\n\u001b[0;32m     74\u001b[0m \u001b[1;33m\u001b[0m\u001b[0m\n\u001b[0;32m     75\u001b[0m     \u001b[0mkwargs\u001b[0m\u001b[1;33m.\u001b[0m\u001b[0msetdefault\u001b[0m\u001b[1;33m(\u001b[0m\u001b[1;34m'allow_redirects'\u001b[0m\u001b[1;33m,\u001b[0m \u001b[1;32mTrue\u001b[0m\u001b[1;33m)\u001b[0m\u001b[1;33m\u001b[0m\u001b[1;33m\u001b[0m\u001b[0m\n\u001b[1;32m---> 76\u001b[1;33m     \u001b[1;32mreturn\u001b[0m \u001b[0mrequest\u001b[0m\u001b[1;33m(\u001b[0m\u001b[1;34m'get'\u001b[0m\u001b[1;33m,\u001b[0m \u001b[0murl\u001b[0m\u001b[1;33m,\u001b[0m \u001b[0mparams\u001b[0m\u001b[1;33m=\u001b[0m\u001b[0mparams\u001b[0m\u001b[1;33m,\u001b[0m \u001b[1;33m**\u001b[0m\u001b[0mkwargs\u001b[0m\u001b[1;33m)\u001b[0m\u001b[1;33m\u001b[0m\u001b[1;33m\u001b[0m\u001b[0m\n\u001b[0m\u001b[0;32m     77\u001b[0m \u001b[1;33m\u001b[0m\u001b[0m\n\u001b[0;32m     78\u001b[0m \u001b[1;33m\u001b[0m\u001b[0m\n",
      "\u001b[1;32mc:\\users\\administrator\\appdata\\local\\programs\\python\\python39\\lib\\site-packages\\requests\\api.py\u001b[0m in \u001b[0;36mrequest\u001b[1;34m(method, url, **kwargs)\u001b[0m\n\u001b[0;32m     59\u001b[0m     \u001b[1;31m# cases, and look like a memory leak in others.\u001b[0m\u001b[1;33m\u001b[0m\u001b[1;33m\u001b[0m\u001b[1;33m\u001b[0m\u001b[0m\n\u001b[0;32m     60\u001b[0m     \u001b[1;32mwith\u001b[0m \u001b[0msessions\u001b[0m\u001b[1;33m.\u001b[0m\u001b[0mSession\u001b[0m\u001b[1;33m(\u001b[0m\u001b[1;33m)\u001b[0m \u001b[1;32mas\u001b[0m \u001b[0msession\u001b[0m\u001b[1;33m:\u001b[0m\u001b[1;33m\u001b[0m\u001b[1;33m\u001b[0m\u001b[0m\n\u001b[1;32m---> 61\u001b[1;33m         \u001b[1;32mreturn\u001b[0m \u001b[0msession\u001b[0m\u001b[1;33m.\u001b[0m\u001b[0mrequest\u001b[0m\u001b[1;33m(\u001b[0m\u001b[0mmethod\u001b[0m\u001b[1;33m=\u001b[0m\u001b[0mmethod\u001b[0m\u001b[1;33m,\u001b[0m \u001b[0murl\u001b[0m\u001b[1;33m=\u001b[0m\u001b[0murl\u001b[0m\u001b[1;33m,\u001b[0m \u001b[1;33m**\u001b[0m\u001b[0mkwargs\u001b[0m\u001b[1;33m)\u001b[0m\u001b[1;33m\u001b[0m\u001b[1;33m\u001b[0m\u001b[0m\n\u001b[0m\u001b[0;32m     62\u001b[0m \u001b[1;33m\u001b[0m\u001b[0m\n\u001b[0;32m     63\u001b[0m \u001b[1;33m\u001b[0m\u001b[0m\n",
      "\u001b[1;32mc:\\users\\administrator\\appdata\\local\\programs\\python\\python39\\lib\\site-packages\\requests\\sessions.py\u001b[0m in \u001b[0;36mrequest\u001b[1;34m(self, method, url, params, data, headers, cookies, files, auth, timeout, allow_redirects, proxies, hooks, stream, verify, cert, json)\u001b[0m\n\u001b[0;32m    540\u001b[0m         }\n\u001b[0;32m    541\u001b[0m         \u001b[0msend_kwargs\u001b[0m\u001b[1;33m.\u001b[0m\u001b[0mupdate\u001b[0m\u001b[1;33m(\u001b[0m\u001b[0msettings\u001b[0m\u001b[1;33m)\u001b[0m\u001b[1;33m\u001b[0m\u001b[1;33m\u001b[0m\u001b[0m\n\u001b[1;32m--> 542\u001b[1;33m         \u001b[0mresp\u001b[0m \u001b[1;33m=\u001b[0m \u001b[0mself\u001b[0m\u001b[1;33m.\u001b[0m\u001b[0msend\u001b[0m\u001b[1;33m(\u001b[0m\u001b[0mprep\u001b[0m\u001b[1;33m,\u001b[0m \u001b[1;33m**\u001b[0m\u001b[0msend_kwargs\u001b[0m\u001b[1;33m)\u001b[0m\u001b[1;33m\u001b[0m\u001b[1;33m\u001b[0m\u001b[0m\n\u001b[0m\u001b[0;32m    543\u001b[0m \u001b[1;33m\u001b[0m\u001b[0m\n\u001b[0;32m    544\u001b[0m         \u001b[1;32mreturn\u001b[0m \u001b[0mresp\u001b[0m\u001b[1;33m\u001b[0m\u001b[1;33m\u001b[0m\u001b[0m\n",
      "\u001b[1;32mc:\\users\\administrator\\appdata\\local\\programs\\python\\python39\\lib\\site-packages\\requests\\sessions.py\u001b[0m in \u001b[0;36msend\u001b[1;34m(self, request, **kwargs)\u001b[0m\n\u001b[0;32m    653\u001b[0m \u001b[1;33m\u001b[0m\u001b[0m\n\u001b[0;32m    654\u001b[0m         \u001b[1;31m# Send the request\u001b[0m\u001b[1;33m\u001b[0m\u001b[1;33m\u001b[0m\u001b[1;33m\u001b[0m\u001b[0m\n\u001b[1;32m--> 655\u001b[1;33m         \u001b[0mr\u001b[0m \u001b[1;33m=\u001b[0m \u001b[0madapter\u001b[0m\u001b[1;33m.\u001b[0m\u001b[0msend\u001b[0m\u001b[1;33m(\u001b[0m\u001b[0mrequest\u001b[0m\u001b[1;33m,\u001b[0m \u001b[1;33m**\u001b[0m\u001b[0mkwargs\u001b[0m\u001b[1;33m)\u001b[0m\u001b[1;33m\u001b[0m\u001b[1;33m\u001b[0m\u001b[0m\n\u001b[0m\u001b[0;32m    656\u001b[0m \u001b[1;33m\u001b[0m\u001b[0m\n\u001b[0;32m    657\u001b[0m         \u001b[1;31m# Total elapsed time of the request (approximately)\u001b[0m\u001b[1;33m\u001b[0m\u001b[1;33m\u001b[0m\u001b[1;33m\u001b[0m\u001b[0m\n",
      "\u001b[1;32mc:\\users\\administrator\\appdata\\local\\programs\\python\\python39\\lib\\site-packages\\requests\\adapters.py\u001b[0m in \u001b[0;36msend\u001b[1;34m(self, request, stream, timeout, verify, cert, proxies)\u001b[0m\n\u001b[0;32m    514\u001b[0m                 \u001b[1;32mraise\u001b[0m \u001b[0mSSLError\u001b[0m\u001b[1;33m(\u001b[0m\u001b[0me\u001b[0m\u001b[1;33m,\u001b[0m \u001b[0mrequest\u001b[0m\u001b[1;33m=\u001b[0m\u001b[0mrequest\u001b[0m\u001b[1;33m)\u001b[0m\u001b[1;33m\u001b[0m\u001b[1;33m\u001b[0m\u001b[0m\n\u001b[0;32m    515\u001b[0m \u001b[1;33m\u001b[0m\u001b[0m\n\u001b[1;32m--> 516\u001b[1;33m             \u001b[1;32mraise\u001b[0m \u001b[0mConnectionError\u001b[0m\u001b[1;33m(\u001b[0m\u001b[0me\u001b[0m\u001b[1;33m,\u001b[0m \u001b[0mrequest\u001b[0m\u001b[1;33m=\u001b[0m\u001b[0mrequest\u001b[0m\u001b[1;33m)\u001b[0m\u001b[1;33m\u001b[0m\u001b[1;33m\u001b[0m\u001b[0m\n\u001b[0m\u001b[0;32m    517\u001b[0m \u001b[1;33m\u001b[0m\u001b[0m\n\u001b[0;32m    518\u001b[0m         \u001b[1;32mexcept\u001b[0m \u001b[0mClosedPoolError\u001b[0m \u001b[1;32mas\u001b[0m \u001b[0me\u001b[0m\u001b[1;33m:\u001b[0m\u001b[1;33m\u001b[0m\u001b[1;33m\u001b[0m\u001b[0m\n",
      "\u001b[1;31mConnectionError\u001b[0m: HTTPSConnectionPool(host='https', port=443): Max retries exceeded with url: //smallpacking.agrosem.ua/product/dlya-fruktovih-ta-gorihovih-derev-2/ (Caused by NewConnectionError('<urllib3.connection.HTTPSConnection object at 0x0000025D23E9D400>: Failed to establish a new connection: [Errno 11001] getaddrinfo failed'))"
     ]
    }
   ],
   "source": [
    "import requests\n",
    "from bs4 import BeautifulSoup\n",
    "\n",
    "Base = {}\n",
    "\n",
    "SITE = 'https://https://smallpacking.agrosem.ua/product/dlya-fruktovih-ta-gorihovih-derev-2/'\n",
    "\n",
    "r = requests.get(SITE, headers=HEADERS)\n",
    "if r.status_code == 200:\n",
    "    soup = BeautifulSoup(r.text, 'lxml')\n",
    "\n",
    "    for el in soup.find('div', class_='product-container').find_all('div'):\n",
    "        productID = el.find('span', class_='sku').text\n",
    "        name = el.find('span', class_='atributes-description').text\n",
    "        price = el.find('span', class_='regular-price').text\n",
    "        weight = el.find('td', class_='woocommerce-product-attributes-item__value').text\n",
    "        Base[tmp] = [productID, name, price, weight]\n",
    "    \n",
    "Base"
   ]
  },
  {
   "cell_type": "code",
   "execution_count": null,
   "metadata": {},
   "outputs": [],
   "source": []
  },
  {
   "cell_type": "markdown",
   "metadata": {},
   "source": [
    "### Завдання 3: "
   ]
  },
  {
   "cell_type": "markdown",
   "metadata": {},
   "source": [
    "Ознайомтеся із роботою SQLite та відповідним модулем у Python.\n",
    "Завантажте базу даних для виконання лабораторної роботи.\n",
    "Підключіться до завантаженої бази SQLite."
   ]
  },
  {
   "cell_type": "markdown",
   "metadata": {},
   "source": [
    "1. Виведіть інформацію про дану базу."
   ]
  },
  {
   "cell_type": "code",
   "execution_count": 1,
   "metadata": {},
   "outputs": [],
   "source": [
    "import sqlite3\n",
    "\n",
    "def execute_req(sql_text, *args):\n",
    "    conn = sqlite3.connect('tysql.sqlite')\n",
    "    curs = conn.cursor()\n",
    "    result = curs.execute(sql_text,(*args,)).fetchall()\n",
    "    conn.close()\n",
    "    return result\n",
    "\n",
    "def execute_with_print(sql_text):\n",
    "    r = execute_req(sql_text)\n",
    "    for row in r:\n",
    "        print(row)"
   ]
  },
  {
   "cell_type": "markdown",
   "metadata": {},
   "source": [
    "2. Виведіть перелік всіх таблиць."
   ]
  },
  {
   "cell_type": "code",
   "execution_count": 40,
   "metadata": {},
   "outputs": [
    {
     "name": "stdout",
     "output_type": "stream",
     "text": [
      "Таблиці у БД:\n",
      "Customers\n",
      "OrderItems\n",
      "Orders\n",
      "Products\n",
      "Vendors\n"
     ]
    }
   ],
   "source": [
    "all_tables = execute_req('SELECT name from sqlite_master where type= \"table\"')\n",
    "all_tables = [t[0] for t in all_tables]\n",
    "print('Таблиці у БД:')\n",
    "for t in all_tables:\n",
    "    print(t)"
   ]
  },
  {
   "cell_type": "markdown",
   "metadata": {},
   "source": [
    "3. Список всіх cust_id з таблиці Customers table."
   ]
  },
  {
   "cell_type": "code",
   "execution_count": 41,
   "metadata": {},
   "outputs": [
    {
     "name": "stdout",
     "output_type": "stream",
     "text": [
      "Інформація про поля таблиць:\n",
      "\n",
      "#, name, value_type, is_nullable, column_default, foreign key\n",
      "\n",
      "Customers\n",
      "(0, 'cust_id', 'char(10)', 1, None, 1)\n",
      "(1, 'cust_name', 'char(50)', 1, None, 0)\n",
      "(2, 'cust_address', 'char(50)', 0, None, 0)\n",
      "(3, 'cust_city', 'char(50)', 0, None, 0)\n",
      "(4, 'cust_state', 'char(5)', 0, None, 0)\n",
      "(5, 'cust_zip', 'char(10)', 0, None, 0)\n",
      "(6, 'cust_country', 'char(50)', 0, None, 0)\n",
      "(7, 'cust_contact', 'char(50)', 0, None, 0)\n",
      "(8, 'cust_email', 'char(255)', 0, None, 0)\n",
      "\n",
      "OrderItems\n",
      "(0, 'order_num', 'int', 1, None, 1)\n",
      "(1, 'order_item', 'int', 1, None, 2)\n",
      "(2, 'prod_id', 'char(10)', 1, None, 0)\n",
      "(3, 'quantity', 'int', 1, None, 0)\n",
      "(4, 'item_price', 'decimal(8,2)', 1, None, 0)\n",
      "\n",
      "Orders\n",
      "(0, 'order_num', 'int', 1, None, 1)\n",
      "(1, 'order_date', 'datetime', 1, None, 0)\n",
      "(2, 'cust_id', 'char(10)', 1, None, 0)\n",
      "\n",
      "Products\n",
      "(0, 'prod_id', 'char(10)', 1, None, 1)\n",
      "(1, 'vend_id', 'char(10)', 1, None, 0)\n",
      "(2, 'prod_name', 'char(255)', 1, None, 0)\n",
      "(3, 'prod_price', 'decimal(8,2)', 1, None, 0)\n",
      "(4, 'prod_desc', 'text', 0, None, 0)\n",
      "\n",
      "Vendors\n",
      "(0, 'vend_id', 'char(10)', 1, None, 1)\n",
      "(1, 'vend_name', 'char(50)', 1, None, 0)\n",
      "(2, 'vend_address', 'char(50)', 0, None, 0)\n",
      "(3, 'vend_city', 'char(50)', 0, None, 0)\n",
      "(4, 'vend_state', 'char(5)', 0, None, 0)\n",
      "(5, 'vend_zip', 'char(10)', 0, None, 0)\n",
      "(6, 'vend_country', 'char(50)', 0, None, 0)\n",
      "\n"
     ]
    }
   ],
   "source": [
    "print('Інформація про поля таблиць:\\n')\n",
    "print('#, name, value_type, is_nullable, column_default, foreign key\\n')\n",
    "for t in all_tables:\n",
    "    print(t)\n",
    "    sql_text = \"PRAGMA table_info (%s)\" %t\n",
    "    execute_with_print(sql_text)\n",
    "    print()"
   ]
  },
  {
   "cell_type": "markdown",
   "metadata": {},
   "source": [
    "4. Всю таблицю Customers table"
   ]
  },
  {
   "cell_type": "code",
   "execution_count": 49,
   "metadata": {},
   "outputs": [
    {
     "name": "stdout",
     "output_type": "stream",
     "text": [
      "All Customers table:\n",
      "\n",
      "('1000000001', 'Village Toys', '200 Maple Lane', 'Detroit', 'MI', '44444', 'USA', 'John Smith', 'sales@villagetoys.com')\n",
      "('1000000002', 'Kids Place', '333 South Lake Drive', 'Columbus', 'OH', '43333', 'USA', 'Michelle Green', None)\n",
      "('1000000003', 'Fun4All', '1 Sunny Place', 'Muncie', 'IN', '42222', 'USA', 'Jim Jones', 'jjones@fun4all.com')\n",
      "('1000000004', 'Fun4All', '829 Riverside Drive', 'Phoenix', 'AZ', '88888', 'USA', 'Denise L. Stephens', 'dstephens@fun4all.com')\n",
      "('1000000005', 'The Toy Store', '4545 53rd Street', 'Chicago', 'IL', '54545', 'USA', 'Kim Howard', None)\n"
     ]
    }
   ],
   "source": [
    "sql_text_2 = \"\"\"\n",
    "SELECT *\n",
    "FROM Customers\n",
    "\"\"\"\n",
    "print('All Customers table:\\n')\n",
    "\n",
    "execute_with_print(sql_text_2)"
   ]
  },
  {
   "cell_type": "markdown",
   "metadata": {},
   "source": [
    "5. Список клієнтів (cust_names) відсортованих від Z до A"
   ]
  },
  {
   "cell_type": "code",
   "execution_count": 50,
   "metadata": {},
   "outputs": [
    {
     "name": "stdout",
     "output_type": "stream",
     "text": [
      "Cust_name відсортовані від Z до A\n",
      "\n",
      "('Village Toys',)\n",
      "('The Toy Store',)\n",
      "('Kids Place',)\n",
      "('Fun4All',)\n",
      "('Fun4All',)\n"
     ]
    }
   ],
   "source": [
    "sql_text_3 = \"\"\"\n",
    "SELECT cust_name\n",
    "FROM Customers\n",
    "ORDER BY cust_name DESC\n",
    "\"\"\"\n",
    "print('Cust_name відсортовані від Z до A\\n')\n",
    "execute_with_print(sql_text_3)"
   ]
  },
  {
   "cell_type": "markdown",
   "metadata": {},
   "source": [
    "6. Таблицю клієнтів та замовлень (cust_id і order_num) . Відсортуйте по клієнту і потім по даті замовлення"
   ]
  },
  {
   "cell_type": "code",
   "execution_count": 54,
   "metadata": {},
   "outputs": [
    {
     "name": "stdout",
     "output_type": "stream",
     "text": [
      "# Таблиця клієнтів та замовлень (cust_id, order_num) відсортованих по клієнту та даті замовлення:\n",
      "\n",
      "('1000000001', 20009)\n",
      "('1000000001', 20005)\n",
      "('1000000003', 20006)\n",
      "('1000000004', 20007)\n",
      "('1000000005', 20008)\n"
     ]
    }
   ],
   "source": [
    "sql_text_4 = \"\"\"\n",
    "SELECT cust_id, order_num\n",
    "FROM Orders\n",
    "ORDER BY cust_id, order_date\n",
    "\"\"\"\n",
    "print('# Таблиця клієнтів та замовлень (cust_id, order_num) відсортованих по клієнту та даті замовлення:\\n')\n",
    "execute_with_print(sql_text_4)"
   ]
  },
  {
   "cell_type": "markdown",
   "metadata": {},
   "source": [
    "7. Таблицю (на основі Items) з кількість та вартістю товару. Відсортуйте в порядку спадання по кількості та вартості"
   ]
  },
  {
   "cell_type": "code",
   "execution_count": 52,
   "metadata": {},
   "outputs": [
    {
     "name": "stdout",
     "output_type": "stream",
     "text": [
      "Таблиця на основі Items з кількістю та вартістю товару. Відсортуйте в порядку спадання по кількості товару\n",
      "\n",
      "(250, 2.49)\n",
      "(250, 2.49)\n",
      "(250, 2.49)\n",
      "(100, 5.49)\n",
      "(100, 10.99)\n",
      "(100, 2.99)\n",
      "(100, 2.99)\n",
      "(100, 2.99)\n",
      "(50, 11.49)\n",
      "(50, 4.49)\n",
      "(20, 5.99)\n",
      "(10, 8.99)\n",
      "(10, 11.99)\n",
      "(10, 3.49)\n",
      "(10, 3.49)\n",
      "(10, 3.49)\n",
      "(5, 4.99)\n",
      "(5, 11.99)\n"
     ]
    }
   ],
   "source": [
    "sql_text_5 = \"\"\"\n",
    "SELECT quantity, item_price\n",
    "FROM OrderItems\n",
    "ORDER BY quantity DESC\n",
    "\"\"\"\n",
    "\n",
    "print('Таблиця на основі Items з кількістю та вартістю товару. Відсортуйте в порядку спадання по кількості товару\\n')\n",
    "execute_with_print(sql_text_5)"
   ]
  },
  {
   "cell_type": "markdown",
   "metadata": {},
   "source": [
    "8. Товар (з таблиці Products), ціна якого становить 9.49"
   ]
  },
  {
   "cell_type": "code",
   "execution_count": 53,
   "metadata": {},
   "outputs": [
    {
     "name": "stdout",
     "output_type": "stream",
     "text": [
      "Товар з таблиці Products, ціна якого становить 9.49\n",
      "\n",
      "('King doll', 9.49)\n",
      "('Queen doll', 9.49)\n"
     ]
    }
   ],
   "source": [
    "sql_text_6 = \"\"\"\n",
    "SELECT prod_name, prod_price\n",
    "FROM Products\n",
    "WHERE prod_price = 9.49\n",
    "\"\"\"\n",
    "print('Товар з таблиці Products, ціна якого становить 9.49\\n')\n",
    "execute_with_print(sql_text_6)"
   ]
  },
  {
   "cell_type": "markdown",
   "metadata": {},
   "source": [
    "9. Виведіть назву товару та ціну, яка лежить в діапазоні від  3 до 6. Відсортуйте результат в по ціні в порядку зростання"
   ]
  },
  {
   "cell_type": "code",
   "execution_count": 55,
   "metadata": {},
   "outputs": [
    {
     "name": "stdout",
     "output_type": "stream",
     "text": [
      "Назва товару, ціна якого в діапазоні від 3 до 6\n",
      "\n",
      "('Fish bean bag toy', 3.49)\n",
      "('Bird bean bag toy', 3.49)\n",
      "('Rabbit bean bag toy', 3.49)\n",
      "('Raggedy Ann', 4.99)\n",
      "('8 inch teddy bear', 5.99)\n"
     ]
    }
   ],
   "source": [
    "sql_text_7 = \"\"\"\n",
    "SELECT prod_name, prod_price\n",
    "FROM Products\n",
    "WHERE prod_price BETWEEN 3 AND 6\n",
    "ORDER BY prod_price \n",
    "\"\"\"\n",
    "print('Назва товару, ціна якого в діапазоні від 3 до 6\\n')\n",
    "execute_with_print(sql_text_7)"
   ]
  },
  {
   "cell_type": "markdown",
   "metadata": {},
   "source": [
    "10. Кількість товару, що було продано"
   ]
  },
  {
   "cell_type": "code",
   "execution_count": 56,
   "metadata": {},
   "outputs": [
    {
     "name": "stdout",
     "output_type": "stream",
     "text": [
      "Кількість товару, що було продано\n",
      "\n",
      "('BNBG01', 360)\n",
      "('BNBG02', 360)\n",
      "('BNBG03', 360)\n",
      "('BR01', 120)\n",
      "('BR02', 10)\n",
      "('BR03', 165)\n",
      "('RGAN01', 55)\n",
      "('Всього продано: ', 1430)\n"
     ]
    }
   ],
   "source": [
    "sql_text_8 = \"\"\"\n",
    "SELECT prod_id, SUM(quantity)\n",
    "FROM OrderItems\n",
    "GROUP BY prod_id\n",
    "\n",
    "UNION\n",
    "\n",
    "SELECT 'Всього продано: ', SUM(quantity)\n",
    "FROM OrderItems\n",
    "\"\"\"\n",
    "print('Кількість товару, що було продано\\n')\n",
    "execute_with_print(sql_text_8)"
   ]
  },
  {
   "cell_type": "markdown",
   "metadata": {},
   "source": [
    "11. Кількість найменувань товару, ціна якого більша за 4"
   ]
  },
  {
   "cell_type": "code",
   "execution_count": 57,
   "metadata": {},
   "outputs": [
    {
     "name": "stdout",
     "output_type": "stream",
     "text": [
      "Кількість найменувань товару, ціна якого > 4\n",
      "\n",
      "(6,)\n"
     ]
    }
   ],
   "source": [
    "sql_text_9 = \"\"\"\n",
    "SELECT count(prod_id) FROM Products\n",
    "WHERE prod_price > 4\n",
    "\"\"\"\n",
    "print('Кількість найменувань товару, ціна якого > 4\\n')\n",
    "execute_with_print(sql_text_9)"
   ]
  },
  {
   "cell_type": "markdown",
   "metadata": {},
   "source": [
    "12. Розробіть алгоритм для виведення 3 найдорожчих товарів в базі"
   ]
  },
  {
   "cell_type": "code",
   "execution_count": 62,
   "metadata": {},
   "outputs": [
    {
     "name": "stdout",
     "output_type": "stream",
     "text": [
      "3 найдорожчі товари в базі\n",
      "\n",
      "('18 inch teddy bear', 11.99)\n",
      "('King doll', 9.49)\n",
      "('Queen doll', 9.49)\n"
     ]
    }
   ],
   "source": [
    "sql_text_10 = \"\"\"\n",
    "SELECT prod_name, prod_price\n",
    "FROM Products\n",
    "ORDER BY prod_price DESC\n",
    "LIMIT 3\n",
    "\"\"\"\n",
    "print('3 найдорожчі товари в базі\\n')\n",
    "execute_with_print(sql_text_10)"
   ]
  },
  {
   "cell_type": "markdown",
   "metadata": {},
   "source": [
    "13. Підрахуйте кількість замовлень для кожного клієнта використовуючи підзапити"
   ]
  },
  {
   "cell_type": "code",
   "execution_count": 63,
   "metadata": {},
   "outputs": [
    {
     "name": "stdout",
     "output_type": "stream",
     "text": [
      "Кількість замовлень для кожного клієнта (використовуючи підзапити)\n",
      "\n",
      "('1000000001', 2)\n",
      "('1000000003', 1)\n",
      "('1000000004', 1)\n",
      "('1000000005', 1)\n"
     ]
    }
   ],
   "source": [
    "sql_text_11 = \"\"\"\n",
    "SELECT cust_id AS c1, SUM(1)\n",
    "FROM (SELECT cust_id FROM Orders)\n",
    "GROUP BY cust_id\n",
    "\"\"\"\n",
    "print('Кількість замовлень для кожного клієнта (використовуючи підзапити)\\n')\n",
    "execute_with_print(sql_text_11)"
   ]
  },
  {
   "cell_type": "markdown",
   "metadata": {},
   "source": [
    "14. Виведіть список клієнтів та їх замовлення (використайте JOIN)"
   ]
  },
  {
   "cell_type": "code",
   "execution_count": 64,
   "metadata": {},
   "outputs": [
    {
     "name": "stdout",
     "output_type": "stream",
     "text": [
      "Список клієнтів та їх замовлень (використовуючи JOIN)\n",
      "\n",
      "('Village Toys', 20005)\n",
      "('Fun4All', 20006)\n",
      "('Fun4All', 20007)\n",
      "('The Toy Store', 20008)\n",
      "('Village Toys', 20009)\n"
     ]
    }
   ],
   "source": [
    "sql_text_12 = \"\"\"\n",
    "SELECT cust_name, order_num\n",
    "FROM Orders\n",
    "JOIN Customers on Customers.cust_id=Orders.cust_id\n",
    "\"\"\"\n",
    "print('Список клієнтів та їх замовлень (використовуючи JOIN)\\n')\n",
    "execute_with_print(sql_text_12)"
   ]
  },
  {
   "cell_type": "markdown",
   "metadata": {},
   "source": [
    "15. Зробіть два запити: список товарів, ціна яких менша 5 та список товарів, ціна який більша рівна 5. Використайте UNION для об'єднання цих запитів"
   ]
  },
  {
   "cell_type": "code",
   "execution_count": 65,
   "metadata": {},
   "outputs": [
    {
     "name": "stdout",
     "output_type": "stream",
     "text": [
      "Список товарів, ціна яких < 5; список товарів, ціна яких >=5; використати UNION для об'єднання\n",
      "\n",
      "('12 inch teddy bear', 8.99)\n",
      "('18 inch teddy bear', 11.99)\n",
      "('8 inch teddy bear', 5.99)\n",
      "('Bird bean bag toy', 3.49)\n",
      "('Fish bean bag toy', 3.49)\n",
      "('King doll', 9.49)\n",
      "('Queen doll', 9.49)\n",
      "('Rabbit bean bag toy', 3.49)\n",
      "('Raggedy Ann', 4.99)\n"
     ]
    }
   ],
   "source": [
    "sql_text_13 = \"\"\"\n",
    "SELECT prod_name, prod_price\n",
    "FROM Products\n",
    "WHERE prod_price < 5\n",
    "\n",
    "UNION\n",
    "\n",
    "SELECT prod_name, prod_price \n",
    "FROM Products\n",
    "WHERE prod_price >= 5\n",
    "\"\"\"\n",
    "print(\"Список товарів, ціна яких < 5; список товарів, ціна яких >=5; використати UNION для об'єднання\\n\")\n",
    "execute_with_print(sql_text_13)"
   ]
  },
  {
   "cell_type": "markdown",
   "metadata": {},
   "source": [
    "### Завдання 4: "
   ]
  },
  {
   "cell_type": "markdown",
   "metadata": {},
   "source": [
    "Зареєструйтеся на сайті  http://www.sql-ex.ru/\n",
    "\n",
    "Виконайте завдання із блоку SELECT; з 1 по 30 завдання\n",
    "\n",
    "Код запитів вставляйте сюди\n"
   ]
  },
  {
   "cell_type": "code",
   "execution_count": null,
   "metadata": {},
   "outputs": [],
   "source": []
  }
 ],
 "metadata": {
  "kernelspec": {
   "display_name": "Python 3",
   "language": "python",
   "name": "python3"
  },
  "language_info": {
   "codemirror_mode": {
    "name": "ipython",
    "version": 3
   },
   "file_extension": ".py",
   "mimetype": "text/x-python",
   "name": "python",
   "nbconvert_exporter": "python",
   "pygments_lexer": "ipython3",
   "version": "3.9.2"
  }
 },
 "nbformat": 4,
 "nbformat_minor": 2
}
