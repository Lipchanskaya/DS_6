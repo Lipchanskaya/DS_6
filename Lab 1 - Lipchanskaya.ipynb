{
 "cells": [
  {
   "cell_type": "markdown",
   "id": "inclusive-gentleman",
   "metadata": {},
   "source": [
    "# 1. Markdown cells\n",
    "\n",
    "* Hi! Its Main Academy?\n",
    "* All HTML tabs are supported!\n",
    "* Моя сторінка на [лінкедін](Лінкедін)\n",
    "\n",
    "\n",
    "# This is Heading 1\n",
    "\n",
    "## This is Heading 2\n",
    "\n",
    "some gray colored text: \n",
    ">This is where we can bring qoutes and present them nicely\n",
    "\n",
    "And this is the paragraph about something very important. Even math:\n",
    "\n",
    "$$ y_{sub} = \\sqrt{x_{sub}} $$\n",
    "\n",
    "Or python code example:\n",
    "\n",
    "  import math\n",
    "  \n",
    "  def foo():\n",
    "    \n",
    "    return \"foo\""
   ]
  },
  {
   "cell_type": "code",
   "execution_count": null,
   "id": "becoming-shield",
   "metadata": {},
   "outputs": [],
   "source": []
  }
 ],
 "metadata": {
  "kernelspec": {
   "display_name": "Python 3",
   "language": "python",
   "name": "python3"
  },
  "language_info": {
   "codemirror_mode": {
    "name": "ipython",
    "version": 3
   },
   "file_extension": ".py",
   "mimetype": "text/x-python",
   "name": "python",
   "nbconvert_exporter": "python",
   "pygments_lexer": "ipython3",
   "version": "3.9.2"
  }
 },
 "nbformat": 4,
 "nbformat_minor": 5
}
